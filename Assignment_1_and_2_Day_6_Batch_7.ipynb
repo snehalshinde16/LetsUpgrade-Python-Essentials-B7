{
  "nbformat": 4,
  "nbformat_minor": 0,
  "metadata": {
    "colab": {
      "name": "Assignment 1 and 2 Day 6 Batch 7",
      "provenance": [],
      "collapsed_sections": [],
      "authorship_tag": "ABX9TyMJGnztekKZM9vHEZVwpdYQ",
      "include_colab_link": true
    },
    "kernelspec": {
      "name": "python3",
      "display_name": "Python 3"
    }
  },
  "cells": [
    {
      "cell_type": "markdown",
      "metadata": {
        "id": "view-in-github",
        "colab_type": "text"
      },
      "source": [
        "<a href=\"https://colab.research.google.com/github/snehalshinde16/LetsUpgrade-Python-Essentials-B7/blob/master/Assignment_1_and_2_Day_6_Batch_7.ipynb\" target=\"_parent\"><img src=\"https://colab.research.google.com/assets/colab-badge.svg\" alt=\"Open In Colab\"/></a>"
      ]
    },
    {
      "cell_type": "code",
      "metadata": {
        "id": "Ql_CGOopgMk3",
        "colab_type": "code",
        "colab": {}
      },
      "source": [
        "# Assignmment 1 Day 6 Batch 7\n",
        "\n",
        "# Create a Banck Account class their has two attribute owner name and balance\n",
        "# And two methods is deposit and withdrow"
      ],
      "execution_count": null,
      "outputs": []
    },
    {
      "cell_type": "code",
      "metadata": {
        "id": "8hYU031ZgaKR",
        "colab_type": "code",
        "colab": {
          "base_uri": "https://localhost:8080/",
          "height": 170
        },
        "outputId": "310ebe3f-868c-4495-a1f9-66c47370f377"
      },
      "source": [
        "class Bank_Account: \n",
        "    def __init__(self,Owner_name): \n",
        "        self.balance=0\n",
        "        self.Owner_name=Owner_name\n",
        "        print(f\"Hello!!! {self.Owner_name}  Welcome to the Deposit & Withdrawal Machine\") \n",
        "  \n",
        "    def deposit(self): \n",
        "        amount=float(input(\"Enter amount to be Deposited: \")) \n",
        "        self.balance += amount \n",
        "        print(\"\\n Amount Deposited:\",amount) \n",
        "  \n",
        "    def withdraw(self): \n",
        "        amount = float(input(\"Enter amount to be Withdrawn: \")) \n",
        "        if self.balance>=amount: \n",
        "            self.balance-=amount \n",
        "            print(\"\\n You Withdrew:\", amount) \n",
        "        else: \n",
        "            print(\"\\n Insufficient balance  \") \n",
        "  \n",
        "    def display(self): \n",
        "        print(\"\\n Net Available Balance=\",self.balance) \n",
        "     \n",
        "# creating an object of class \n",
        "s = Bank_Account(input(\"Enter your name please : \")) \n",
        "   \n",
        "# Calling functions with that class object \n",
        "s.deposit() \n",
        "s.withdraw() \n",
        "s.display() \n"
      ],
      "execution_count": null,
      "outputs": [
        {
          "output_type": "stream",
          "text": [
            "Hello!!! Snehal  Welcome to the Deposit & Withdrawal Machine\n",
            "Enter amount to be Deposited: 5000\n",
            "\n",
            " Amount Deposited: 5000.0\n",
            "Enter amount to be Withdrawn: 2000\n",
            "\n",
            " You Withdrew: 2000.0\n",
            "\n",
            " Net Available Balance= 3000.0\n"
          ],
          "name": "stdout"
        }
      ]
    },
    {
      "cell_type": "code",
      "metadata": {
        "id": "u1JH9LFhgaa9",
        "colab_type": "code",
        "colab": {}
      },
      "source": [
        "# Assignmment 2 Day 6 Batch \n",
        "\n",
        "# Create a class for cone their has two attribute radius and height\n",
        "# And two methods also , one is calulate volume and another is find surface area of that cone"
      ],
      "execution_count": null,
      "outputs": []
    },
    {
      "cell_type": "code",
      "metadata": {
        "id": "fnIiao8igarM",
        "colab_type": "code",
        "colab": {
          "base_uri": "https://localhost:8080/",
          "height": 51
        },
        "outputId": "039c4657-940a-4542-95bb-7fe4d81a89e8"
      },
      "source": [
        "import math \n",
        "pi = math.pi \n",
        "  \n",
        "class Cone:\n",
        "    def __init__(self, r, h):\n",
        "       self.r = r\n",
        "       self.h = h\n",
        "       \n",
        "\n",
        "# Function to calculate Volume of Cone     \n",
        "    def volume(self): \n",
        "        return (1 / 3) * pi * self.r**2  * self.h\n",
        "\n",
        "# Function To Calculate Surface Area of Cone \n",
        "    def surfacearea(self): \n",
        "        base = (pi * self.r **2)\n",
        "        side = (pi * self.r * math.sqrt((self.r**2) + (self.h**2)))\n",
        "        return (pi * self.r **2) + (pi * self.r * math.sqrt((self.r**2) + (self.h**2)))\n",
        "        \n",
        "    \n",
        "\n",
        "\n",
        "calc_volume = Cone(5,12)\n",
        "print(f\"Volume Of Cone : {calc_volume.volume()}\")\n",
        "\n",
        "calc_surface = Cone(5,12)\n",
        "print(f\"Surface Area Of Cone : {calc_surface.surfacearea()}\")"
      ],
      "execution_count": null,
      "outputs": [
        {
          "output_type": "stream",
          "text": [
            "Volume Of Cone : 314.15926535897927\n",
            "Surface Area Of Cone : 282.7433388230814\n"
          ],
          "name": "stdout"
        }
      ]
    }
  ]
}