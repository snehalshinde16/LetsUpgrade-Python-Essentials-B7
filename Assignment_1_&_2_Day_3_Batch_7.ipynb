{
  "nbformat": 4,
  "nbformat_minor": 0,
  "metadata": {
    "colab": {
      "name": "Assignment 1 & 2 Day 3 Batch 7.ipynb",
      "provenance": [],
      "collapsed_sections": [],
      "authorship_tag": "ABX9TyPojAf7SCUtE+ysEb7km9rD",
      "include_colab_link": true
    },
    "kernelspec": {
      "name": "python3",
      "display_name": "Python 3"
    }
  },
  "cells": [
    {
      "cell_type": "markdown",
      "metadata": {
        "id": "view-in-github",
        "colab_type": "text"
      },
      "source": [
        "<a href=\"https://colab.research.google.com/github/snehalshinde16/LetsUpgrade-Python-Essentials-B7/blob/master/Assignment_1_%26_2_Day_3_Batch_7.ipynb\" target=\"_parent\"><img src=\"https://colab.research.google.com/assets/colab-badge.svg\" alt=\"Open In Colab\"/></a>"
      ]
    },
    {
      "cell_type": "code",
      "metadata": {
        "id": "T9Lh5_0HiRAj",
        "colab_type": "code",
        "colab": {}
      },
      "source": [
        "# Assignment 1 Day-3 Batch-7\n",
        "\n",
        "# You all are pilots, you have to land a plane, the altitude required for landing a plane is 1000ft,\n",
        "# if it is less than that tell pilot to land the plane,\n",
        "#  or it is more than that but less than 5000ft ask the pilot to 'come down to 1000ft' ,\n",
        "#  else if it is more than 5000ft ask pilot to 'go around and try later'"
      ],
      "execution_count": null,
      "outputs": []
    },
    {
      "cell_type": "code",
      "metadata": {
        "id": "oJQh517aijND",
        "colab_type": "code",
        "colab": {
          "base_uri": "https://localhost:8080/",
          "height": 51
        },
        "outputId": "6dc57f23-9e0f-4e8b-d22e-36f3be44c3d8"
      },
      "source": [
        "altitude = 1000\n",
        "your_altitude = int(input(\"Enter your altitude : \"))\n",
        "if altitude >= your_altitude:\n",
        "  print(\"Land the plane\") \n",
        "elif altitude < your_altitude < 5000:\n",
        "  print(\"come down to 1000ft\")\n",
        "else:\n",
        "  print(\"go around and try later\")\n"
      ],
      "execution_count": 10,
      "outputs": [
        {
          "output_type": "stream",
          "text": [
            "Enter your altitude : 1500\n",
            "come down to 1000ft\n"
          ],
          "name": "stdout"
        }
      ]
    },
    {
      "cell_type": "code",
      "metadata": {
        "id": "eIHzy0Ovijit",
        "colab_type": "code",
        "colab": {}
      },
      "source": [
        "# Assignment 2 Day-3 Batch-7\n",
        "\n",
        "# Print Between 1 to 200 prime number in python"
      ],
      "execution_count": 1,
      "outputs": []
    },
    {
      "cell_type": "code",
      "metadata": {
        "id": "_St7dlzEiiLu",
        "colab_type": "code",
        "colab": {
          "base_uri": "https://localhost:8080/",
          "height": 816
        },
        "outputId": "29a9d59c-f35b-4862-b396-8ce90a8c6d77"
      },
      "source": [
        "lower = 1\n",
        "upper = 200\n",
        "\n",
        "print(\"Prime numbers between\", lower, \"and\", upper, \"are:\")\n",
        "\n",
        "for num in range(lower, upper + 1):\n",
        "   # all prime numbers are greater than 1\n",
        "   if num > 1:\n",
        "       for i in range(2, num):\n",
        "           if (num % i) == 0:\n",
        "               break\n",
        "       else:\n",
        "           print(num)"
      ],
      "execution_count": 2,
      "outputs": [
        {
          "output_type": "stream",
          "text": [
            "Prime numbers between 1 and 200 are:\n",
            "2\n",
            "3\n",
            "5\n",
            "7\n",
            "11\n",
            "13\n",
            "17\n",
            "19\n",
            "23\n",
            "29\n",
            "31\n",
            "37\n",
            "41\n",
            "43\n",
            "47\n",
            "53\n",
            "59\n",
            "61\n",
            "67\n",
            "71\n",
            "73\n",
            "79\n",
            "83\n",
            "89\n",
            "97\n",
            "101\n",
            "103\n",
            "107\n",
            "109\n",
            "113\n",
            "127\n",
            "131\n",
            "137\n",
            "139\n",
            "149\n",
            "151\n",
            "157\n",
            "163\n",
            "167\n",
            "173\n",
            "179\n",
            "181\n",
            "191\n",
            "193\n",
            "197\n",
            "199\n"
          ],
          "name": "stdout"
        }
      ]
    }
  ]
}