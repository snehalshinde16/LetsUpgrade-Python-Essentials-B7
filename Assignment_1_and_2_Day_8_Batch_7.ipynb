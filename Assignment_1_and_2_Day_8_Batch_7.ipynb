{
  "nbformat": 4,
  "nbformat_minor": 0,
  "metadata": {
    "colab": {
      "name": "Assignment 1 and 2 Day 8 Batch 7.ipynb",
      "provenance": [],
      "collapsed_sections": [],
      "authorship_tag": "ABX9TyPKc6N2AgKccWfPQYQl/eCe",
      "include_colab_link": true
    },
    "kernelspec": {
      "name": "python3",
      "display_name": "Python 3"
    }
  },
  "cells": [
    {
      "cell_type": "markdown",
      "metadata": {
        "id": "view-in-github",
        "colab_type": "text"
      },
      "source": [
        "<a href=\"https://colab.research.google.com/github/snehalshinde16/LetsUpgrade-Python-Essentials-B7/blob/master/Assignment_1_and_2_Day_8_Batch_7.ipynb\" target=\"_parent\"><img src=\"https://colab.research.google.com/assets/colab-badge.svg\" alt=\"Open In Colab\"/></a>"
      ]
    },
    {
      "cell_type": "code",
      "metadata": {
        "id": "cINf_4U1r6Ts",
        "colab_type": "code",
        "colab": {}
      },
      "source": [
        "# Assignment 1 Day 8 Batch 7\n",
        "\n",
        "# Write a decorator function for your taking input for you any kind of function you want to biuld"
      ],
      "execution_count": null,
      "outputs": []
    },
    {
      "cell_type": "code",
      "metadata": {
        "id": "BZTX3prkKYjm",
        "colab_type": "code",
        "colab": {
          "base_uri": "https://localhost:8080/",
          "height": 68
        },
        "outputId": "662f3f2c-1f87-4bd9-8ab4-e772952eadc3"
      },
      "source": [
        "def mainFunction(any_function):\n",
        "  def wrap_function():\n",
        "    print(\"Please enter any number to check it is odd or even : \")\n",
        "    x = int(input(\"Enter number: \")) \n",
        "    any_function(x)\n",
        "  return wrap_function\n",
        "\n",
        "\n",
        "@mainFunction\n",
        "def check_odd_even(num):\n",
        "  if num%2 == 0:\n",
        "    print(f\"Given number {num} is 'Even' number\")\n",
        "  else:\n",
        "    print(f\"Given number {num} is 'Odd' number\")\n",
        "\n",
        "check_odd_even()"
      ],
      "execution_count": null,
      "outputs": [
        {
          "output_type": "stream",
          "text": [
            "Please enter any number to check it is odd or even : \n",
            "Enter number: 5689\n",
            "Given number 5689 is 'Odd' number\n"
          ],
          "name": "stdout"
        }
      ]
    },
    {
      "cell_type": "code",
      "metadata": {
        "id": "EvTkg1OrsMCg",
        "colab_type": "code",
        "colab": {}
      },
      "source": [
        "# Assignment 2 Day 8 Batch 7\n",
        "\n",
        "# Develop a Python program to open a file in read only mode, \n",
        "# and try writting somthing to it and handle the subsequent error using Exception Handling\n"
      ],
      "execution_count": null,
      "outputs": []
    },
    {
      "cell_type": "code",
      "metadata": {
        "id": "M9OdHGpXsMPG",
        "colab_type": "code",
        "colab": {
          "base_uri": "https://localhost:8080/",
          "height": 34
        },
        "outputId": "219407ea-cb8a-4403-9aea-460e1b1b0c7f"
      },
      "source": [
        "try:\n",
        "  f = open(\"file.txt\", 'r')\n",
        "  f.write(\"Hey, What's up guys?\")\n",
        "  \n",
        "  \n",
        "except IOError:\n",
        "  print(\"Error: can\\'t write data\")\n",
        "\n",
        "else:\n",
        "  f.close()\n",
        "  print(\"finally block executed to close the file\")"
      ],
      "execution_count": 12,
      "outputs": [
        {
          "output_type": "stream",
          "text": [
            "Error: can't find file or write data\n"
          ],
          "name": "stdout"
        }
      ]
    }
  ]
}