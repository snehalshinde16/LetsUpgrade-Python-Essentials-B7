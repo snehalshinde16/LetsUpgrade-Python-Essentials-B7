{
  "nbformat": 4,
  "nbformat_minor": 0,
  "metadata": {
    "colab": {
      "name": "Assignment 1 and 2 Day 9 Batch 7.ipynb",
      "provenance": [],
      "collapsed_sections": [],
      "authorship_tag": "ABX9TyOpcwHpJkbu8Wxo3660INIX",
      "include_colab_link": true
    },
    "kernelspec": {
      "name": "python3",
      "display_name": "Python 3"
    }
  },
  "cells": [
    {
      "cell_type": "markdown",
      "metadata": {
        "id": "view-in-github",
        "colab_type": "text"
      },
      "source": [
        "<a href=\"https://colab.research.google.com/github/snehalshinde16/LetsUpgrade-Python-Essentials-B7/blob/master/Assignment_1_and_2_Day_9_Batch_7.ipynb\" target=\"_parent\"><img src=\"https://colab.research.google.com/assets/colab-badge.svg\" alt=\"Open In Colab\"/></a>"
      ]
    },
    {
      "cell_type": "code",
      "metadata": {
        "id": "Ith3kqmZ4WVI",
        "colab_type": "code",
        "colab": {
          "base_uri": "https://localhost:8080/",
          "height": 411
        },
        "outputId": "ef4515f1-d273-49ac-8424-0c37fc66b59d"
      },
      "source": [
        "! pip install pylint\n"
      ],
      "execution_count": null,
      "outputs": [
        {
          "output_type": "stream",
          "text": [
            "Collecting pylint\n",
            "\u001b[?25l  Downloading https://files.pythonhosted.org/packages/fb/13/519c1264a134beab2be4bac8dd3e64948980a5ca7833b31cf0255b21f20a/pylint-2.6.0-py3-none-any.whl (325kB)\n",
            "\u001b[K     |████████████████████████████████| 327kB 7.9MB/s \n",
            "\u001b[?25hCollecting astroid<=2.5,>=2.4.0\n",
            "\u001b[?25l  Downloading https://files.pythonhosted.org/packages/24/a8/5133f51967fb21e46ee50831c3f5dda49e976b7f915408d670b1603d41d6/astroid-2.4.2-py3-none-any.whl (213kB)\n",
            "\u001b[K     |████████████████████████████████| 215kB 9.6MB/s \n",
            "\u001b[?25hCollecting isort<6,>=4.2.5\n",
            "\u001b[?25l  Downloading https://files.pythonhosted.org/packages/d1/25/7ed95ccb07d3ce52598f5a57d002da6a18074ea8749991b10936cc20e539/isort-5.5.2-py3-none-any.whl (95kB)\n",
            "\u001b[K     |████████████████████████████████| 102kB 9.0MB/s \n",
            "\u001b[?25hCollecting mccabe<0.7,>=0.6\n",
            "  Downloading https://files.pythonhosted.org/packages/87/89/479dc97e18549e21354893e4ee4ef36db1d237534982482c3681ee6e7b57/mccabe-0.6.1-py2.py3-none-any.whl\n",
            "Requirement already satisfied: toml>=0.7.1 in /usr/local/lib/python3.6/dist-packages (from pylint) (0.10.1)\n",
            "Requirement already satisfied: six~=1.12 in /usr/local/lib/python3.6/dist-packages (from astroid<=2.5,>=2.4.0->pylint) (1.15.0)\n",
            "Collecting typed-ast<1.5,>=1.4.0; implementation_name == \"cpython\" and python_version < \"3.8\"\n",
            "\u001b[?25l  Downloading https://files.pythonhosted.org/packages/90/ed/5459080d95eb87a02fe860d447197be63b6e2b5e9ff73c2b0a85622994f4/typed_ast-1.4.1-cp36-cp36m-manylinux1_x86_64.whl (737kB)\n",
            "\u001b[K     |████████████████████████████████| 747kB 27.8MB/s \n",
            "\u001b[?25hRequirement already satisfied: wrapt~=1.11 in /usr/local/lib/python3.6/dist-packages (from astroid<=2.5,>=2.4.0->pylint) (1.12.1)\n",
            "Collecting lazy-object-proxy==1.4.*\n",
            "\u001b[?25l  Downloading https://files.pythonhosted.org/packages/0b/dd/b1e3407e9e6913cf178e506cd0dee818e58694d9a5cd1984e3f6a8b9a10f/lazy_object_proxy-1.4.3-cp36-cp36m-manylinux1_x86_64.whl (55kB)\n",
            "\u001b[K     |████████████████████████████████| 61kB 6.9MB/s \n",
            "\u001b[?25hInstalling collected packages: typed-ast, lazy-object-proxy, astroid, isort, mccabe, pylint\n",
            "Successfully installed astroid-2.4.2 isort-5.5.2 lazy-object-proxy-1.4.3 mccabe-0.6.1 pylint-2.6.0 typed-ast-1.4.1\n"
          ],
          "name": "stdout"
        }
      ]
    },
    {
      "cell_type": "code",
      "metadata": {
        "id": "6U9S-j-fgxIk",
        "colab_type": "code",
        "colab": {
          "base_uri": "https://localhost:8080/",
          "height": 102
        },
        "outputId": "5a295b4a-e2e9-48de-9c40-333491e3e062"
      },
      "source": [
        "! pip install unittest2"
      ],
      "execution_count": 12,
      "outputs": [
        {
          "output_type": "stream",
          "text": [
            "Requirement already satisfied: unittest2 in /usr/local/lib/python3.6/dist-packages (1.1.0)\n",
            "Requirement already satisfied: traceback2 in /usr/local/lib/python3.6/dist-packages (from unittest2) (1.4.0)\n",
            "Requirement already satisfied: argparse in /usr/local/lib/python3.6/dist-packages (from unittest2) (1.4.0)\n",
            "Requirement already satisfied: six>=1.4 in /usr/local/lib/python3.6/dist-packages (from unittest2) (1.15.0)\n",
            "Requirement already satisfied: linecache2 in /usr/local/lib/python3.6/dist-packages (from traceback2->unittest2) (1.0.0)\n"
          ],
          "name": "stdout"
        }
      ]
    },
    {
      "cell_type": "code",
      "metadata": {
        "id": "ip6D9Auct2lx",
        "colab_type": "code",
        "colab": {}
      },
      "source": [
        "# Write a function for finding is a given number prime or not and do Unit Testing on it using PyLint and Unittest Library"
      ],
      "execution_count": null,
      "outputs": []
    },
    {
      "cell_type": "code",
      "metadata": {
        "id": "Mysrn_JPoMcY",
        "colab_type": "code",
        "colab": {
          "base_uri": "https://localhost:8080/",
          "height": 34
        },
        "outputId": "cd931104-16f5-4b2f-bbd4-90487986f537"
      },
      "source": [
        "%%writefile check_prime_number.py\n",
        "\n",
        "def prime_number(number):\n",
        "  if number > 1:\n",
        "    for i in range(2, number):\n",
        "      if (number % i) == 0:\n",
        "        return f\"Given {number} is not a prime number\"\n",
        "        break\n",
        "      else:\n",
        "        return f\"Given {number} is a prime number\"\n",
        "  \n",
        "  \n",
        "\n",
        "num = int(input(\"Enter any number : \"))\n",
        "print(prime_number(num))"
      ],
      "execution_count": 13,
      "outputs": [
        {
          "output_type": "stream",
          "text": [
            "Writing check_prime_number.py\n"
          ],
          "name": "stdout"
        }
      ]
    },
    {
      "cell_type": "code",
      "metadata": {
        "id": "qi88UbTdoREm",
        "colab_type": "code",
        "colab": {
          "base_uri": "https://localhost:8080/",
          "height": 35
        },
        "outputId": "9372a1c6-cce9-4a15-c0a9-4ed5e51a34b1"
      },
      "source": [
        "import check_prime_number\n",
        "\n",
        "check_prime_number.prime_number(5)"
      ],
      "execution_count": 16,
      "outputs": [
        {
          "output_type": "execute_result",
          "data": {
            "application/vnd.google.colaboratory.intrinsic+json": {
              "type": "string"
            },
            "text/plain": [
              "'Given 5 is a prime number'"
            ]
          },
          "metadata": {
            "tags": []
          },
          "execution_count": 16
        }
      ]
    },
    {
      "cell_type": "code",
      "metadata": {
        "id": "MGq5J8CtpIHr",
        "colab_type": "code",
        "colab": {
          "base_uri": "https://localhost:8080/",
          "height": 34
        },
        "outputId": "aa3ddb14-5608-4bdf-8584-772fe5539c72"
      },
      "source": [
        "%%writefile find_prime_number.py\n",
        "\n",
        "import unittest2\n",
        "import check_prime_number\n",
        "\n",
        "class test_prime_number(unittest2.TestCase):\n",
        "  def test_any_number(self):\n",
        "    any_number = int(5)\n",
        "    result = check_prime_number.prime_number(any_number)\n",
        "    self.assertEquals(result, \"Given 5 is a prime number\")\n",
        "\n",
        "  def testing_number(self):\n",
        "    any_num = int(11)\n",
        "    result = check_prime_number.prime_number(any_num)\n",
        "    self.assertEquals(result, \"Given 11 is a prime number\")\n",
        "\n",
        "if __name__ == \"__main__\":\n",
        "  unittest2.main()\n"
      ],
      "execution_count": 24,
      "outputs": [
        {
          "output_type": "stream",
          "text": [
            "Overwriting find_prime_number.py\n"
          ],
          "name": "stdout"
        }
      ]
    },
    {
      "cell_type": "code",
      "metadata": {
        "id": "Mx4K5uzquxEx",
        "colab_type": "code",
        "colab": {
          "base_uri": "https://localhost:8080/",
          "height": 136
        },
        "outputId": "6c8b2fb0-e58c-431d-ad8a-631563e3475a"
      },
      "source": [
        "! python find_prime_number.py"
      ],
      "execution_count": 25,
      "outputs": [
        {
          "output_type": "stream",
          "text": [
            "Enter any number : 3\n",
            "Given 3 is a prime number\n",
            "..\n",
            "----------------------------------------------------------------------\n",
            "Ran 2 tests in 0.000s\n",
            "\n",
            "OK\n"
          ],
          "name": "stdout"
        }
      ]
    },
    {
      "cell_type": "code",
      "metadata": {
        "id": "4_1Wqw3cJVY3",
        "colab_type": "code",
        "colab": {}
      },
      "source": [
        "# Make a small generator program for returning armstrong number in between 1 - 1000 in a generator object"
      ],
      "execution_count": null,
      "outputs": []
    },
    {
      "cell_type": "code",
      "metadata": {
        "id": "yfZgNWEQJWL1",
        "colab_type": "code",
        "colab": {
          "base_uri": "https://localhost:8080/",
          "height": 34
        },
        "outputId": "56ece346-44ae-4343-c69b-002ac1507e82"
      },
      "source": [
        "def armstrong_number_generator(first, last):\n",
        "  for num in range(first, last + 1):\n",
        "   order = len(str(num))\n",
        "   sum = 0\n",
        "   temp = num\n",
        "   while temp > 0:\n",
        "       digit = temp % 10\n",
        "       sum += digit ** order\n",
        "       temp //= 10\n",
        "\n",
        "   if num == sum:\n",
        "       yield (num)\n",
        "\n",
        "Number = armstrong_number_generator(1,1000)\n",
        "print(list(Number))"
      ],
      "execution_count": 3,
      "outputs": [
        {
          "output_type": "stream",
          "text": [
            "[1, 2, 3, 4, 5, 6, 7, 8, 9, 153, 370, 371, 407]\n"
          ],
          "name": "stdout"
        }
      ]
    }
  ]
}